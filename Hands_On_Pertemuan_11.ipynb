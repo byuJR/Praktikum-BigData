{
 "cells": [
  {
   "cell_type": "markdown",
   "id": "32f8193f",
   "metadata": {},
   "source": [
    "# Hands-On Pertemuan 11: Advanced MongoDB Operations and Data Query"
   ]
  },
  {
   "cell_type": "markdown",
   "id": "63c97234",
   "metadata": {},
   "source": [
    "## Objectives:\n",
    "- Dive into advanced query operations and aggregation pipelines in MongoDB.\n",
    "- Enhance skills in filtering, grouping, and analyzing data with MongoDB.\n",
    "- Master complex MongoDB operations for real-world data scenarios.\n"
   ]
  },
  {
   "cell_type": "markdown",
   "id": "dc3e7a37",
   "metadata": {},
   "source": [
    "### 1. Advanced CRUD Operations\n",
    "- **Exercise 1**: Use `bulk_write` to insert, update, and delete multiple documents simultaneously.\n",
    "- **Task 1**: Insert a dataset of `courses` where each course has multiple student enrollments, then display the data.\n"
   ]
  },
  {
   "cell_type": "code",
   "execution_count": 2,
   "id": "58749e3d",
   "metadata": {},
   "outputs": [
    {
     "name": "stdout",
     "output_type": "stream",
     "text": [
      "Courses inserted successfully.\n"
     ]
    }
   ],
   "source": [
    "from pymongo import MongoClient, InsertOne, UpdateOne, DeleteOne\n",
    "\n",
    "# Establish client connection\n",
    "client = MongoClient('mongodb://localhost:27017/')\n",
    "db = client['university_db']\n",
    "courses_collection = db['courses']\n",
    "\n",
    "# Bulk insert of courses with student enrollments\n",
    "operations = [\n",
    "    InsertOne({'course': 'Math 101', 'enrollments': 30, 'department': 'Mathematics'}),\n",
    "    InsertOne({'course': 'CS 102', 'enrollments': 25, 'department': 'Computer Science'}),\n",
    "    InsertOne({'course': 'History 201', 'enrollments': 20, 'department': 'History'}),\n",
    "    InsertOne({'course': 'Physics 202', 'enrollments': 15, 'department': 'Physics'})\n",
    "]\n",
    "courses_collection.bulk_write(operations)\n",
    "print('Courses inserted successfully.')\n"
   ]
  },
  {
   "cell_type": "code",
   "execution_count": 3,
   "id": "3f54fa47-ccf2-4dbc-ba5b-5c45926bfc7f",
   "metadata": {},
   "outputs": [
    {
     "name": "stdout",
     "output_type": "stream",
     "text": [
      "{'_id': ObjectId('672b17769cc438991ef8cc40'), 'course': 'Math 101', 'enrollments': 30, 'department': 'Mathematics'}\n",
      "{'_id': ObjectId('672b17769cc438991ef8cc41'), 'course': 'CS 102', 'enrollments': 25, 'department': 'Computer Science'}\n",
      "{'_id': ObjectId('672b17769cc438991ef8cc42'), 'course': 'History 201', 'enrollments': 20, 'department': 'History'}\n",
      "{'_id': ObjectId('672b17769cc438991ef8cc43'), 'course': 'Physics 202', 'enrollments': 15, 'department': 'Physics'}\n",
      "{'_id': ObjectId('672b1d31cc7591f85c5ce3bc'), 'course': 'Math 101', 'enrollments': 30, 'department': 'Mathematics'}\n",
      "{'_id': ObjectId('672b1d31cc7591f85c5ce3bd'), 'course': 'CS 102', 'enrollments': 25, 'department': 'Computer Science'}\n",
      "{'_id': ObjectId('672b1d31cc7591f85c5ce3be'), 'course': 'History 201', 'enrollments': 20, 'department': 'History'}\n",
      "{'_id': ObjectId('672b1d31cc7591f85c5ce3bf'), 'course': 'Physics 202', 'enrollments': 15, 'department': 'Physics'}\n",
      "{'_id': ObjectId('672e1e39adce9a0f32dcdce8'), 'course': 'Math 101', 'enrollments': 30, 'department': 'Mathematics'}\n",
      "{'_id': ObjectId('672e1e39adce9a0f32dcdce9'), 'course': 'CS 102', 'enrollments': 25, 'department': 'Computer Science'}\n",
      "{'_id': ObjectId('672e1e39adce9a0f32dcdcea'), 'course': 'History 201', 'enrollments': 20, 'department': 'History'}\n",
      "{'_id': ObjectId('672e1e39adce9a0f32dcdceb'), 'course': 'Physics 202', 'enrollments': 15, 'department': 'Physics'}\n"
     ]
    }
   ],
   "source": [
    "# Fetch and display all documents in the 'courses' collection\n",
    "courses = courses_collection.find()\n",
    "\n",
    "# Print each document\n",
    "for course in courses:\n",
    "    print(course)"
   ]
  },
  {
   "cell_type": "markdown",
   "id": "ea28ba03",
   "metadata": {},
   "source": [
    "### 2. Complex Filtering and Querying\n",
    "- **Exercise 2**: Filter courses with enrollments over 20 students.\n",
    "- **Task 2**: Retrieve and display courses only from the 'Computer Science' or 'Mathematics' departments.\n"
   ]
  },
  {
   "cell_type": "code",
   "execution_count": 3,
   "id": "8cacd4b7",
   "metadata": {},
   "outputs": [
    {
     "name": "stdout",
     "output_type": "stream",
     "text": [
      "{'_id': ObjectId('672b17769cc438991ef8cc40'), 'course': 'Math 101', 'enrollments': 30, 'department': 'Mathematics'}\n",
      "{'_id': ObjectId('672b17769cc438991ef8cc41'), 'course': 'CS 102', 'enrollments': 25, 'department': 'Computer Science'}\n",
      "{'_id': ObjectId('672b1d31cc7591f85c5ce3bc'), 'course': 'Math 101', 'enrollments': 30, 'department': 'Mathematics'}\n",
      "{'_id': ObjectId('672b1d31cc7591f85c5ce3bd'), 'course': 'CS 102', 'enrollments': 25, 'department': 'Computer Science'}\n"
     ]
    }
   ],
   "source": [
    "# Query for courses with enrollments greater than 20\n",
    "for course in courses_collection.find({'enrollments': {'$gt': 20}}):\n",
    "    print(course)\n"
   ]
  },
  {
   "cell_type": "code",
   "execution_count": 4,
   "id": "27fd2372",
   "metadata": {},
   "outputs": [
    {
     "name": "stdout",
     "output_type": "stream",
     "text": [
      "{'_id': ObjectId('672b17769cc438991ef8cc40'), 'course': 'Math 101', 'enrollments': 30, 'department': 'Mathematics'}\n",
      "{'_id': ObjectId('672b17769cc438991ef8cc41'), 'course': 'CS 102', 'enrollments': 25, 'department': 'Computer Science'}\n",
      "{'_id': ObjectId('672b1d31cc7591f85c5ce3bc'), 'course': 'Math 101', 'enrollments': 30, 'department': 'Mathematics'}\n",
      "{'_id': ObjectId('672b1d31cc7591f85c5ce3bd'), 'course': 'CS 102', 'enrollments': 25, 'department': 'Computer Science'}\n"
     ]
    }
   ],
   "source": [
    "# Query courses in Computer Science or Mathematics departments\n",
    "for course in courses_collection.find({'department': {'$in': ['Computer Science', 'Mathematics']}}):\n",
    "    print(course)\n"
   ]
  },
  {
   "cell_type": "markdown",
   "id": "5bd373c1",
   "metadata": {},
   "source": [
    "### 3. Aggregation Framework for Data Analysis\n",
    "- **Exercise 3**: Use aggregation to find the average enrollment per department.\n",
    "- **Task 3**: Create an aggregation pipeline that finds the maximum enrollment for each department.\n"
   ]
  },
  {
   "cell_type": "code",
   "execution_count": 5,
   "id": "97561541",
   "metadata": {},
   "outputs": [
    {
     "name": "stdout",
     "output_type": "stream",
     "text": [
      "{'_id': 'Mathematics', 'average_enrollment': 30.0}\n",
      "{'_id': 'Computer Science', 'average_enrollment': 25.0}\n",
      "{'_id': 'History', 'average_enrollment': 20.0}\n",
      "{'_id': 'Physics', 'average_enrollment': 15.0}\n"
     ]
    }
   ],
   "source": [
    "# Average enrollment per department using aggregation\n",
    "pipeline = [\n",
    "    {'$group': {'_id': '$department', 'average_enrollment': {'$avg': '$enrollments'}}}\n",
    "]\n",
    "for result in courses_collection.aggregate(pipeline):\n",
    "    print(result)\n"
   ]
  },
  {
   "cell_type": "code",
   "execution_count": 6,
   "id": "3ba91f68",
   "metadata": {},
   "outputs": [
    {
     "name": "stdout",
     "output_type": "stream",
     "text": [
      "{'_id': 'Mathematics', 'max_enrollment': 30}\n",
      "{'_id': 'Computer Science', 'max_enrollment': 25}\n",
      "{'_id': 'History', 'max_enrollment': 20}\n",
      "{'_id': 'Physics', 'max_enrollment': 15}\n"
     ]
    }
   ],
   "source": [
    "# Maximum enrollment per department\n",
    "pipeline = [\n",
    "    {'$group': {'_id': '$department', 'max_enrollment': {'$max': '$enrollments'}}}\n",
    "]\n",
    "for result in courses_collection.aggregate(pipeline):\n",
    "    print(result)\n"
   ]
  },
  {
   "cell_type": "markdown",
   "id": "2230ad7e",
   "metadata": {},
   "source": [
    "### 4. Data Transformation using $project and $addFields\n",
    "- **Exercise 4**: Use `$project` to rename and only show fields: `course_name`, `department_name`, and `enrollments`.\n",
    "- **Task 4**: Use `$addFields` to create a new field `enrollment_category` where enrollments > 20 are 'high' and others 'low'.\n"
   ]
  },
  {
   "cell_type": "code",
   "execution_count": 7,
   "id": "53034be1",
   "metadata": {},
   "outputs": [
    {
     "name": "stdout",
     "output_type": "stream",
     "text": [
      "{'_id': ObjectId('672b17769cc438991ef8cc40'), 'enrollments': 30, 'course_name': 'Math 101', 'department_name': 'Mathematics'}\n",
      "{'_id': ObjectId('672b17769cc438991ef8cc41'), 'enrollments': 25, 'course_name': 'CS 102', 'department_name': 'Computer Science'}\n",
      "{'_id': ObjectId('672b17769cc438991ef8cc42'), 'enrollments': 20, 'course_name': 'History 201', 'department_name': 'History'}\n",
      "{'_id': ObjectId('672b17769cc438991ef8cc43'), 'enrollments': 15, 'course_name': 'Physics 202', 'department_name': 'Physics'}\n",
      "{'_id': ObjectId('672b1d31cc7591f85c5ce3bc'), 'enrollments': 30, 'course_name': 'Math 101', 'department_name': 'Mathematics'}\n",
      "{'_id': ObjectId('672b1d31cc7591f85c5ce3bd'), 'enrollments': 25, 'course_name': 'CS 102', 'department_name': 'Computer Science'}\n",
      "{'_id': ObjectId('672b1d31cc7591f85c5ce3be'), 'enrollments': 20, 'course_name': 'History 201', 'department_name': 'History'}\n",
      "{'_id': ObjectId('672b1d31cc7591f85c5ce3bf'), 'enrollments': 15, 'course_name': 'Physics 202', 'department_name': 'Physics'}\n"
     ]
    }
   ],
   "source": [
    "# Projection to rename fields\n",
    "pipeline = [\n",
    "    {'$project': {'course_name': '$course', 'department_name': '$department', 'enrollments': 1}}\n",
    "]\n",
    "for result in courses_collection.aggregate(pipeline):\n",
    "    print(result)\n"
   ]
  },
  {
   "cell_type": "code",
   "execution_count": 8,
   "id": "e846e40d",
   "metadata": {},
   "outputs": [
    {
     "name": "stdout",
     "output_type": "stream",
     "text": [
      "{'_id': ObjectId('672b17769cc438991ef8cc40'), 'course': 'Math 101', 'enrollments': 30, 'department': 'Mathematics', 'enrollment_category': 'high'}\n",
      "{'_id': ObjectId('672b17769cc438991ef8cc41'), 'course': 'CS 102', 'enrollments': 25, 'department': 'Computer Science', 'enrollment_category': 'high'}\n",
      "{'_id': ObjectId('672b17769cc438991ef8cc42'), 'course': 'History 201', 'enrollments': 20, 'department': 'History', 'enrollment_category': 'low'}\n",
      "{'_id': ObjectId('672b17769cc438991ef8cc43'), 'course': 'Physics 202', 'enrollments': 15, 'department': 'Physics', 'enrollment_category': 'low'}\n",
      "{'_id': ObjectId('672b1d31cc7591f85c5ce3bc'), 'course': 'Math 101', 'enrollments': 30, 'department': 'Mathematics', 'enrollment_category': 'high'}\n",
      "{'_id': ObjectId('672b1d31cc7591f85c5ce3bd'), 'course': 'CS 102', 'enrollments': 25, 'department': 'Computer Science', 'enrollment_category': 'high'}\n",
      "{'_id': ObjectId('672b1d31cc7591f85c5ce3be'), 'course': 'History 201', 'enrollments': 20, 'department': 'History', 'enrollment_category': 'low'}\n",
      "{'_id': ObjectId('672b1d31cc7591f85c5ce3bf'), 'course': 'Physics 202', 'enrollments': 15, 'department': 'Physics', 'enrollment_category': 'low'}\n"
     ]
    }
   ],
   "source": [
    "# Adding enrollment category field based on enrollments\n",
    "pipeline = [\n",
    "    {'$addFields': {'enrollment_category': {'$cond': {'if': {'$gt': ['$enrollments', 20]}, 'then': 'high', 'else': 'low'}}}}\n",
    "]\n",
    "for result in courses_collection.aggregate(pipeline):\n",
    "    print(result)\n"
   ]
  },
  {
   "cell_type": "markdown",
   "id": "37796e1c",
   "metadata": {},
   "source": [
    "### Homework for Students\n",
    "- **Homework 1**: Perform an aggregation to get a count of courses per department.\n",
    "- **Homework 2**: Use `$match` and `$group` together to filter and get only courses with enrollments over 25 in 'Computer Science'.\n",
    "- **Homework 3**: Apply `$lookup` to join `courses` collection with `students` collection based on student enrollments.\n"
   ]
  },
  {
   "cell_type": "code",
   "execution_count": 9,
   "id": "0a48cfb7-64f6-4ab2-888d-9d87b6086fd5",
   "metadata": {},
   "outputs": [
    {
     "name": "stdout",
     "output_type": "stream",
     "text": [
      "Physics: 2 kursus\n",
      "Mathematics: 2 kursus\n",
      "Computer Science: 2 kursus\n",
      "History: 2 kursus\n"
     ]
    }
   ],
   "source": [
    "\n",
    "# pipeline agregasi\n",
    "\n",
    "pipeline = [\n",
    "\n",
    "    {'$group': {'_id': '$department', 'count': {'$sum': 1}}},\n",
    "\n",
    "    {'$sort': {'count': -1}}\n",
    "\n",
    "]\n",
    "\n",
    "\n",
    "# Execute the aggregation and print results\n",
    "\n",
    "for doc in courses_collection.aggregate(pipeline):\n",
    "\n",
    "    print(f\"{doc['_id']}: {doc['count']} kursus\")"
   ]
  },
  {
   "cell_type": "code",
   "execution_count": 10,
   "id": "9d9d37db-ab5f-4e6b-912d-b1ca36e4aa63",
   "metadata": {},
   "outputs": [
    {
     "name": "stdout",
     "output_type": "stream",
     "text": [
      "No courses found matching the criteria.\n"
     ]
    }
   ],
   "source": [
    "\n",
    "# Pipeline using $match and $group\n",
    "\n",
    "pipeline = [\n",
    "\n",
    "    {'$match': {\n",
    "\n",
    "        'department': 'Computer Science',\n",
    "\n",
    "        'enrollment': {'$gt': 25}\n",
    "\n",
    "    }},\n",
    "\n",
    "    {'$group': {\n",
    "\n",
    "        '_id': None,\n",
    "\n",
    "        'count': {'$sum': 1},\n",
    "\n",
    "        'courses': {'$push': '$name'}\n",
    "\n",
    "    }}\n",
    "\n",
    "]\n",
    "\n",
    "\n",
    "# Execute the aggregation and print results\n",
    "\n",
    "result = list(courses_collection.aggregate(pipeline))\n",
    "\n",
    "\n",
    "if result:\n",
    "\n",
    "    print(f\"Courses in Computer Science with over 25 enrollments: {result[0]['count']}\")\n",
    "\n",
    "    print(\"Course names:\")\n",
    "\n",
    "    for course in result[0]['courses']:\n",
    "\n",
    "        print(f\"- {course}\")\n",
    "\n",
    "else:\n",
    "\n",
    "    print(\"No courses found matching the criteria.\")"
   ]
  },
  {
   "cell_type": "code",
   "execution_count": 13,
   "id": "a77b7b9a-6979-427f-a499-aef354023bf7",
   "metadata": {},
   "outputs": [
    {
     "name": "stdout",
     "output_type": "stream",
     "text": [
      "\n",
      "Course Details:\n",
      "_id: 672b17769cc438991ef8cc40\n",
      "course: Math 101\n",
      "enrollments: 30\n",
      "department: Mathematics\n",
      "enrollment: 0\n",
      "Total Enrollment: 0\n",
      "Enrolled Students:\n",
      "\n",
      "Course Details:\n",
      "_id: 672b17769cc438991ef8cc41\n",
      "course: CS 102\n",
      "enrollments: 25\n",
      "department: Computer Science\n",
      "enrollment: 0\n",
      "Total Enrollment: 0\n",
      "Enrolled Students:\n",
      "\n",
      "Course Details:\n",
      "_id: 672b17769cc438991ef8cc42\n",
      "course: History 201\n",
      "enrollments: 20\n",
      "department: History\n",
      "enrollment: 0\n",
      "Total Enrollment: 0\n",
      "Enrolled Students:\n",
      "\n",
      "Course Details:\n",
      "_id: 672b17769cc438991ef8cc43\n",
      "course: Physics 202\n",
      "enrollments: 15\n",
      "department: Physics\n",
      "enrollment: 0\n",
      "Total Enrollment: 0\n",
      "Enrolled Students:\n",
      "\n",
      "Course Details:\n",
      "_id: 672b1d31cc7591f85c5ce3bc\n",
      "course: Math 101\n",
      "enrollments: 30\n",
      "department: Mathematics\n",
      "enrollment: 0\n",
      "Total Enrollment: 0\n",
      "Enrolled Students:\n",
      "\n",
      "Course Details:\n",
      "_id: 672b1d31cc7591f85c5ce3bd\n",
      "course: CS 102\n",
      "enrollments: 25\n",
      "department: Computer Science\n",
      "enrollment: 0\n",
      "Total Enrollment: 0\n",
      "Enrolled Students:\n",
      "\n",
      "Course Details:\n",
      "_id: 672b1d31cc7591f85c5ce3be\n",
      "course: History 201\n",
      "enrollments: 20\n",
      "department: History\n",
      "enrollment: 0\n",
      "Total Enrollment: 0\n",
      "Enrolled Students:\n",
      "\n",
      "Course Details:\n",
      "_id: 672b1d31cc7591f85c5ce3bf\n",
      "course: Physics 202\n",
      "enrollments: 15\n",
      "department: Physics\n",
      "enrollment: 0\n",
      "Total Enrollment: 0\n",
      "Enrolled Students:\n"
     ]
    }
   ],
   "source": [
    "# Pipeline using $lookup to join courses with students\n",
    "\n",
    "pipeline = [\n",
    "\n",
    "    {\n",
    "\n",
    "        '$lookup': {\n",
    "\n",
    "            'from': 'students',\n",
    "\n",
    "            'let': {'course_id': '$_id'},\n",
    "\n",
    "            'pipeline': [\n",
    "\n",
    "                {'$match': \n",
    "\n",
    "                    {'$expr': \n",
    "\n",
    "                        {'$in': ['$$course_id', '$enrolled_courses']}\n",
    "\n",
    "                    }\n",
    "\n",
    "                },\n",
    "\n",
    "                {'$project': {\n",
    "\n",
    "                    '_id': 1,\n",
    "\n",
    "                    'name': 1,\n",
    "\n",
    "                    'email': 1\n",
    "\n",
    "                }}\n",
    "\n",
    "            ],\n",
    "\n",
    "            'as': 'enrolled_students'\n",
    "\n",
    "        }\n",
    "\n",
    "    },\n",
    "\n",
    "    {\n",
    "\n",
    "        '$addFields': {\n",
    "\n",
    "            'enrollment': {'$size': '$enrolled_students'}\n",
    "\n",
    "        }\n",
    "\n",
    "    }\n",
    "\n",
    "]\n",
    "\n",
    "\n",
    "# Execute the aggregation and print results\n",
    "\n",
    "results = courses_collection.aggregate(pipeline)\n",
    "\n",
    "\n",
    "for course in results:\n",
    "\n",
    "    print(\"\\nCourse Details:\")\n",
    "\n",
    "    for key, value in course.items():\n",
    "\n",
    "        if key != 'enrolled_students':\n",
    "\n",
    "            print(f\"{key}: {value}\")\n",
    "\n",
    "    \n",
    "\n",
    "    print(f\"Total Enrollment: {course['enrollment']}\")\n",
    "\n",
    "    print(\"Enrolled Students:\")\n",
    "\n",
    "    for student in course['enrolled_students']:\n",
    "\n",
    "        print(f\"- {student.get('name', 'N/A')} ({student.get('email', 'N/A')})\")\n",
    "\n"
   ]
  }
 ],
 "metadata": {
  "kernelspec": {
   "display_name": "Python 3 (ipykernel)",
   "language": "python",
   "name": "python3"
  },
  "language_info": {
   "codemirror_mode": {
    "name": "ipython",
    "version": 3
   },
   "file_extension": ".py",
   "mimetype": "text/x-python",
   "name": "python",
   "nbconvert_exporter": "python",
   "pygments_lexer": "ipython3",
   "version": "3.12.7"
  }
 },
 "nbformat": 4,
 "nbformat_minor": 5
}
