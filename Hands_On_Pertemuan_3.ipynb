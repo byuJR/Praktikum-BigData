{
  "cells": [
    {
      "cell_type": "markdown",
      "id": "c1b3626a",
      "metadata": {
        "id": "c1b3626a"
      },
      "source": [
        "# Hands-On Pertemuan 3: Implementasi MapReduce Sederhana"
      ]
    },
    {
      "cell_type": "markdown",
      "id": "8c4b8be5",
      "metadata": {
        "id": "8c4b8be5"
      },
      "source": [
        "## Tujuan:\n",
        "- Memahami konsep MapReduce dalam distribusi data besar.\n",
        "- Mengimplementasikan algoritma sederhana menggunakan MapReduce pada Hadoop.\n",
        "- Melakukan analisis hasil MapReduce pada dataset."
      ]
    },
    {
      "cell_type": "markdown",
      "id": "090da41e",
      "metadata": {
        "id": "090da41e"
      },
      "source": [
        "### 1. Pengenalan MapReduce\n",
        "MapReduce adalah model pemrograman yang digunakan untuk pemrosesan data besar secara paralel di beberapa node dalam kluster Hadoop.\n",
        "- **Map**: Fase pertama di mana data dipecah menjadi unit-unit kecil (key-value pairs).\n",
        "- **Reduce**: Fase kedua di mana hasil dari fase Map dikombinasikan untuk menghasilkan output yang lebih kecil.\n",
        "\n",
        "- **Tugas 1**: Pelajari bagaimana MapReduce bekerja dengan dataset sederhana dan coba implementasikan konsep key-value pair."
      ]
    },
    {
      "cell_type": "markdown",
      "id": "7190ed74",
      "metadata": {
        "id": "7190ed74"
      },
      "source": [
        "### 2. Implementasi Sederhana: Word Count\n",
        "Algoritma Word Count adalah salah satu contoh sederhana dari MapReduce. Dalam tugas ini, kita akan menghitung jumlah kata dalam dataset.\n",
        "\n",
        "1. **Map Function**: Fungsi yang memecah teks menjadi kata-kata individual.\n",
        "   ```python\n",
        "   def map_function(text):\n",
        "       for word in text.split():\n",
        "           yield (word, 1)\n",
        "   ```\n",
        "2. **Reduce Function**: Fungsi yang menggabungkan hasil dari fase Map untuk menghitung frekuensi kata.\n",
        "   ```python\n",
        "   from collections import defaultdict\n",
        "\n",
        "   def reduce_function(pairs):\n",
        "       result = defaultdict(int)\n",
        "       for word, count in pairs:\n",
        "           result[word] += count\n",
        "       return result\n",
        "   ```\n",
        "- **Tugas 2**: Implementasikan fungsi `map_function` dan `reduce_function` pada dataset teks sederhana, lalu hitung jumlah kata."
      ]
    },
    {
      "cell_type": "code",
      "source": [
        "from collections import defaultdict\n",
        "\n",
        "# Map function: Splits text into words and pairs each word with the number 1\n",
        "def map_function(text):\n",
        "    for word in text.split():\n",
        "        yield (word, 1)\n",
        "\n",
        "# Reduce function: Combines the counts of each word\n",
        "def reduce_function(pairs):\n",
        "    result = defaultdict(int)\n",
        "    for word, count in pairs:\n",
        "        result[word] += count\n",
        "    return result\n",
        "\n",
        "# Example dataset\n",
        "dataset = [\n",
        "    \"ini adalah contoh\",\n",
        "    \"ini adalah contoh lain\",\n",
        "    \"ini adalah contoh yang lebih kompleks\"\n",
        "]\n",
        "\n",
        "# Applying the MapReduce logic\n",
        "# Step 1: Apply map function to each text in the dataset\n",
        "mapped = []\n",
        "for text in dataset:\n",
        "    mapped.extend(map_function(text))\n",
        "\n",
        "# Step 2: Apply reduce function to aggregate word cosunts\n",
        "reduced = reduce_function(mapped)\n",
        "\n",
        "# Display the result\n",
        "print(reduced)\n"
      ],
      "metadata": {
        "colab": {
          "base_uri": "https://localhost:8080/"
        },
        "id": "QiDON2L5osmL",
        "outputId": "a34b4c7d-c9be-4501-f7d0-c5e583cdc8dc"
      },
      "id": "QiDON2L5osmL",
      "execution_count": null,
      "outputs": [
        {
          "output_type": "stream",
          "name": "stdout",
          "text": [
            "defaultdict(<class 'int'>, {'ini': 3, 'adalah': 3, 'contoh': 3, 'lain': 1, 'yang': 1, 'lebih': 1, 'kompleks': 1})\n"
          ]
        }
      ]
    },
    {
      "cell_type": "markdown",
      "id": "5d79ab57",
      "metadata": {
        "id": "5d79ab57"
      },
      "source": [
        "### 3. Menjalankan Word Count di Hadoop\n",
        "1. Siapkan file teks yang ingin dihitung jumlah katanya.\n",
        "   ```bash\n",
        "   hdfs dfs -put input.txt /user/student/input/\n",
        "   ```\n",
        "2. Jalankan perintah MapReduce pada file tersebut:\n",
        "   ```bash\n",
        "   hadoop jar $HADOOP_HOME/share/hadoop/mapreduce/hadoop-mapreduce-examples-*.jar wordcount /user/student/input/ /user/student/output/\n",
        "   ```\n",
        "3. Tampilkan hasilnya:\n",
        "   ```bash\n",
        "   hdfs dfs -cat /user/student/output/part-r-00000\n",
        "   ```\n",
        "- **Tugas 3**: Upload file teks ke HDFS, jalankan perintah MapReduce Word Count, dan tampilkan hasilnya."
      ]
    },
    {
      "cell_type": "markdown",
      "id": "24a3bcdf",
      "metadata": {
        "id": "24a3bcdf"
      },
      "source": [
        "### 4. Menganalisis Dataset Besar\n",
        "Untuk memperdalam pemahaman, kita akan menjalankan algoritma MapReduce pada dataset yang lebih besar.\n",
        "- Pilih dataset besar yang dapat diunduh dari [Kaggle](https://www.kaggle.com/) atau sumber lain.\n",
        "- Jalankan Word Count pada dataset besar tersebut dan analisis hasilnya.\n",
        "\n",
        "- **Tugas 4**: Cari dataset besar, jalankan MapReduce untuk menghitung kata, dan buat laporan analisis hasil."
      ]
    },
    {
      "cell_type": "code",
      "source": [
        "from collections import defaultdict\n",
        "\n",
        "# Map function: Splits text into words and pairs each word with the number 1\n",
        "def map_function(text):\n",
        "    for word in text.split():\n",
        "        yield (word, 1)\n",
        "\n",
        "# Reduce function: Combines the counts of each word\n",
        "def reduce_function(pairs):\n",
        "    result = defaultdict(int)\n",
        "    for word, count in pairs:\n",
        "        result[word] += count\n",
        "    return result\n",
        "\n",
        "# Example dataset\n",
        "dataset = [\n",
        "    \"ini adalah contoh\",\n",
        "    \"ini adalah contoh lain\",\n",
        "    \"ini adalah contoh yang lebih kompleks\"\n",
        "]\n",
        "\n",
        "# Applying the MapReduce logic\n",
        "# Step 1: Apply map function to each text in the dataset\n",
        "mapped = []\n",
        "for text in dataset:\n",
        "    mapped.extend(map_function(text))\n",
        "\n",
        "# Step 2: Apply reduce function to aggregate word counts\n",
        "reduced = reduce_function(mapped)\n",
        "\n",
        "# Display the result\n",
        "print(reduced)"
      ],
      "metadata": {
        "id": "hpU6qNj8A_jL"
      },
      "id": "hpU6qNj8A_jL",
      "execution_count": null,
      "outputs": []
    },
    {
      "cell_type": "markdown",
      "id": "85612e13",
      "metadata": {
        "id": "85612e13"
      },
      "source": [
        "### 5. Tugas Tambahan: Custom MapReduce Algorithm\n",
        "- Buat algoritma MapReduce lainnya, seperti menghitung rata-rata nilai, atau menghitung frekuensi kemunculan elemen tertentu di dalam dataset."
      ]
    },
    {
      "cell_type": "code",
      "source": [
        "from mrjob.job import MRJob\n",
        "\n",
        "class MRCountOpen(MRJob):\n",
        "\n",
        "    def configure_args(self):\n",
        "        super(MRCountOpen, self).configure_args()\n",
        "        self.add_passthru_arg('--month', type=int, default=6, help='Month range for calculation in months')\n",
        "\n",
        "    def mapper(self, _, line):\n",
        "        # Data dalam format: timestamp,open,high,low,close,volume\n",
        "        fields = line.split(',')\n",
        "        try:\n",
        "            timestamp = float(fields[0])\n",
        "            open_price = float(fields[1])\n",
        "            end_time = 1726538400  # Waktu akhir (last timestamp)\n",
        "            month = self.options.month\n",
        "            start_time = end_time - (month * 30 * 24 * 3600)  # Hitung waktu mulai\n",
        "\n",
        "            # Jika timestamp dalam rentang waktu\n",
        "            if start_time <= timestamp <= end_time:\n",
        "                yield open_price, 1  # Keluarkan harga open dan '1' untuk penghitungan\n",
        "        except ValueError:\n",
        "            pass  # Jika ada nilai yang tidak bisa di-parse, lewati baris ini\n",
        "\n",
        "    def reducer(self, open_price, counts):\n",
        "        # Hitung berapa kali harga \"open\" yang sama muncul\n",
        "        yield open_price, sum(counts)\n",
        "\n",
        "if __name__ == '__main__':\n",
        "    MRCountOpen.run()"
      ],
      "metadata": {
        "id": "wEUhjf8WAzB6"
      },
      "id": "wEUhjf8WAzB6",
      "execution_count": null,
      "outputs": []
    }
  ],
  "metadata": {
    "colab": {
      "provenance": []
    },
    "language_info": {
      "name": "python"
    },
    "kernelspec": {
      "name": "python3",
      "display_name": "Python 3"
    }
  },
  "nbformat": 4,
  "nbformat_minor": 5
}